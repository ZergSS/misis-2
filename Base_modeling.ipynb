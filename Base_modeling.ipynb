{
 "cells": [
  {
   "cell_type": "code",
   "execution_count": 4,
   "metadata": {},
   "outputs": [],
   "source": [
    "# from sklearn.ensemble import RandomForestClassifier, BaggingClassifier, ExtraTreesClassifier\n",
    "from sklearn.model_selection import train_test_split, GridSearchCV, KFold\n",
    "from sklearn.metrics import f1_score, confusion_matrix, accuracy_score\n",
    "# from sklearn.linear_model import LogisticRegression\n",
    "# from sklearn.neighbors import KNeighborsClassifier\n",
    "from sklearn.preprocessing import StandardScaler\n",
    "from tqdm import tqdm\n",
    "import pickle\n",
    "import matplotlib.pyplot as plt\n",
    "import seaborn as sns\n",
    "import numpy as np\n",
    "from sklearn.base import clone"
   ]
  },
  {
   "cell_type": "markdown",
   "metadata": {},
   "source": [
    "# Обучение модели"
   ]
  },
  {
   "cell_type": "markdown",
   "metadata": {},
   "source": [
    "## Загружаем данные из pickle"
   ]
  },
  {
   "cell_type": "code",
   "execution_count": 7,
   "metadata": {},
   "outputs": [
    {
     "data": {
      "text/html": [
       "<div>\n",
       "<style scoped>\n",
       "    .dataframe tbody tr th:only-of-type {\n",
       "        vertical-align: middle;\n",
       "    }\n",
       "\n",
       "    .dataframe tbody tr th {\n",
       "        vertical-align: top;\n",
       "    }\n",
       "\n",
       "    .dataframe thead th {\n",
       "        text-align: right;\n",
       "    }\n",
       "</style>\n",
       "<table border=\"1\" class=\"dataframe\">\n",
       "  <thead>\n",
       "    <tr style=\"text-align: right;\">\n",
       "      <th></th>\n",
       "      <th>duration</th>\n",
       "      <th>rounds</th>\n",
       "      <th>f1_age</th>\n",
       "      <th>f2_age</th>\n",
       "      <th>f1_isHomeCity</th>\n",
       "      <th>f1_isHomeCountry</th>\n",
       "      <th>f1_isHomeTimezone</th>\n",
       "      <th>f2_isHomeCity</th>\n",
       "      <th>f2_isHomeCountry</th>\n",
       "      <th>f2_isHomeTimezone</th>\n",
       "      <th>...</th>\n",
       "      <th>grappling_accuracy_difference</th>\n",
       "      <th>hitsTotal_difference</th>\n",
       "      <th>takedownTotal_difference</th>\n",
       "      <th>submissionAttempts_difference</th>\n",
       "      <th>takeovers_difference</th>\n",
       "      <th>hitsBodyTotal_difference</th>\n",
       "      <th>hitsLegsTotal_difference</th>\n",
       "      <th>weight_difference</th>\n",
       "      <th>height_difference</th>\n",
       "      <th>eventDate</th>\n",
       "    </tr>\n",
       "    <tr>\n",
       "      <th>id</th>\n",
       "      <th></th>\n",
       "      <th></th>\n",
       "      <th></th>\n",
       "      <th></th>\n",
       "      <th></th>\n",
       "      <th></th>\n",
       "      <th></th>\n",
       "      <th></th>\n",
       "      <th></th>\n",
       "      <th></th>\n",
       "      <th></th>\n",
       "      <th></th>\n",
       "      <th></th>\n",
       "      <th></th>\n",
       "      <th></th>\n",
       "      <th></th>\n",
       "      <th></th>\n",
       "      <th></th>\n",
       "      <th></th>\n",
       "      <th></th>\n",
       "      <th></th>\n",
       "    </tr>\n",
       "  </thead>\n",
       "  <tbody>\n",
       "    <tr>\n",
       "      <th>5201</th>\n",
       "      <td>104.0</td>\n",
       "      <td>1.0</td>\n",
       "      <td>27.0</td>\n",
       "      <td>34.0</td>\n",
       "      <td>0</td>\n",
       "      <td>0</td>\n",
       "      <td>0</td>\n",
       "      <td>0</td>\n",
       "      <td>0</td>\n",
       "      <td>0</td>\n",
       "      <td>...</td>\n",
       "      <td>0.0</td>\n",
       "      <td>4.0</td>\n",
       "      <td>3.0</td>\n",
       "      <td>1.0</td>\n",
       "      <td>0.0</td>\n",
       "      <td>0.0</td>\n",
       "      <td>1.0</td>\n",
       "      <td>-18.6</td>\n",
       "      <td>-10.2</td>\n",
       "      <td>1993-11-12 00:00:00</td>\n",
       "    </tr>\n",
       "    <tr>\n",
       "      <th>5202</th>\n",
       "      <td>52.0</td>\n",
       "      <td>1.0</td>\n",
       "      <td>24.0</td>\n",
       "      <td>23.0</td>\n",
       "      <td>0</td>\n",
       "      <td>1</td>\n",
       "      <td>0</td>\n",
       "      <td>0</td>\n",
       "      <td>1</td>\n",
       "      <td>0</td>\n",
       "      <td>...</td>\n",
       "      <td>0.0</td>\n",
       "      <td>2.0</td>\n",
       "      <td>2.0</td>\n",
       "      <td>1.0</td>\n",
       "      <td>0.0</td>\n",
       "      <td>0.0</td>\n",
       "      <td>0.0</td>\n",
       "      <td>2.3</td>\n",
       "      <td>-7.6</td>\n",
       "      <td>1993-11-12 00:00:00</td>\n",
       "    </tr>\n",
       "    <tr>\n",
       "      <th>5203</th>\n",
       "      <td>59.0</td>\n",
       "      <td>1.0</td>\n",
       "      <td>23.0</td>\n",
       "      <td>34.0</td>\n",
       "      <td>0</td>\n",
       "      <td>1</td>\n",
       "      <td>0</td>\n",
       "      <td>0</td>\n",
       "      <td>0</td>\n",
       "      <td>0</td>\n",
       "      <td>...</td>\n",
       "      <td>0.0</td>\n",
       "      <td>-14.0</td>\n",
       "      <td>0.0</td>\n",
       "      <td>0.0</td>\n",
       "      <td>0.0</td>\n",
       "      <td>0.0</td>\n",
       "      <td>-2.0</td>\n",
       "      <td>26.8</td>\n",
       "      <td>-2.5</td>\n",
       "      <td>1993-11-12 00:00:00</td>\n",
       "    </tr>\n",
       "    <tr>\n",
       "      <th>5204</th>\n",
       "      <td>57.0</td>\n",
       "      <td>1.0</td>\n",
       "      <td>29.0</td>\n",
       "      <td>27.0</td>\n",
       "      <td>0</td>\n",
       "      <td>1</td>\n",
       "      <td>0</td>\n",
       "      <td>0</td>\n",
       "      <td>0</td>\n",
       "      <td>0</td>\n",
       "      <td>...</td>\n",
       "      <td>0.0</td>\n",
       "      <td>-12.0</td>\n",
       "      <td>0.0</td>\n",
       "      <td>-1.0</td>\n",
       "      <td>-1.0</td>\n",
       "      <td>0.0</td>\n",
       "      <td>0.0</td>\n",
       "      <td>13.6</td>\n",
       "      <td>0.0</td>\n",
       "      <td>1993-11-12 00:00:00</td>\n",
       "    </tr>\n",
       "    <tr>\n",
       "      <th>5205</th>\n",
       "      <td>138.0</td>\n",
       "      <td>1.0</td>\n",
       "      <td>27.0</td>\n",
       "      <td>30.0</td>\n",
       "      <td>0</td>\n",
       "      <td>0</td>\n",
       "      <td>0</td>\n",
       "      <td>0</td>\n",
       "      <td>1</td>\n",
       "      <td>0</td>\n",
       "      <td>...</td>\n",
       "      <td>0.0</td>\n",
       "      <td>7.0</td>\n",
       "      <td>1.0</td>\n",
       "      <td>0.0</td>\n",
       "      <td>0.0</td>\n",
       "      <td>0.0</td>\n",
       "      <td>2.0</td>\n",
       "      <td>-9.5</td>\n",
       "      <td>0.0</td>\n",
       "      <td>1993-11-12 00:00:00</td>\n",
       "    </tr>\n",
       "    <tr>\n",
       "      <th>...</th>\n",
       "      <td>...</td>\n",
       "      <td>...</td>\n",
       "      <td>...</td>\n",
       "      <td>...</td>\n",
       "      <td>...</td>\n",
       "      <td>...</td>\n",
       "      <td>...</td>\n",
       "      <td>...</td>\n",
       "      <td>...</td>\n",
       "      <td>...</td>\n",
       "      <td>...</td>\n",
       "      <td>...</td>\n",
       "      <td>...</td>\n",
       "      <td>...</td>\n",
       "      <td>...</td>\n",
       "      <td>...</td>\n",
       "      <td>...</td>\n",
       "      <td>...</td>\n",
       "      <td>...</td>\n",
       "      <td>...</td>\n",
       "      <td>...</td>\n",
       "    </tr>\n",
       "    <tr>\n",
       "      <th>5310</th>\n",
       "      <td>260.0</td>\n",
       "      <td>1.0</td>\n",
       "      <td>25.0</td>\n",
       "      <td>25.0</td>\n",
       "      <td>0</td>\n",
       "      <td>1</td>\n",
       "      <td>0</td>\n",
       "      <td>0</td>\n",
       "      <td>1</td>\n",
       "      <td>1</td>\n",
       "      <td>...</td>\n",
       "      <td>-1.0</td>\n",
       "      <td>19.0</td>\n",
       "      <td>1.0</td>\n",
       "      <td>1.0</td>\n",
       "      <td>0.0</td>\n",
       "      <td>0.0</td>\n",
       "      <td>0.0</td>\n",
       "      <td>0.0</td>\n",
       "      <td>7.6</td>\n",
       "      <td>2019-12-08 05:00:00</td>\n",
       "    </tr>\n",
       "    <tr>\n",
       "      <th>6338</th>\n",
       "      <td>300.0</td>\n",
       "      <td>3.0</td>\n",
       "      <td>30.0</td>\n",
       "      <td>22.0</td>\n",
       "      <td>0</td>\n",
       "      <td>1</td>\n",
       "      <td>0</td>\n",
       "      <td>0</td>\n",
       "      <td>0</td>\n",
       "      <td>0</td>\n",
       "      <td>...</td>\n",
       "      <td>0.0</td>\n",
       "      <td>71.0</td>\n",
       "      <td>1.0</td>\n",
       "      <td>0.0</td>\n",
       "      <td>0.0</td>\n",
       "      <td>1.0</td>\n",
       "      <td>-2.0</td>\n",
       "      <td>0.0</td>\n",
       "      <td>-5.1</td>\n",
       "      <td>2019-12-08 05:00:00</td>\n",
       "    </tr>\n",
       "    <tr>\n",
       "      <th>5311</th>\n",
       "      <td>300.0</td>\n",
       "      <td>5.0</td>\n",
       "      <td>31.0</td>\n",
       "      <td>35.0</td>\n",
       "      <td>0</td>\n",
       "      <td>0</td>\n",
       "      <td>0</td>\n",
       "      <td>0</td>\n",
       "      <td>0</td>\n",
       "      <td>0</td>\n",
       "      <td>...</td>\n",
       "      <td>0.0</td>\n",
       "      <td>6.0</td>\n",
       "      <td>2.0</td>\n",
       "      <td>-1.0</td>\n",
       "      <td>0.0</td>\n",
       "      <td>2.0</td>\n",
       "      <td>1.0</td>\n",
       "      <td>0.0</td>\n",
       "      <td>-2.5</td>\n",
       "      <td>2019-12-14 00:00:00</td>\n",
       "    </tr>\n",
       "    <tr>\n",
       "      <th>5312</th>\n",
       "      <td>300.0</td>\n",
       "      <td>3.0</td>\n",
       "      <td>33.0</td>\n",
       "      <td>33.0</td>\n",
       "      <td>0</td>\n",
       "      <td>0</td>\n",
       "      <td>0</td>\n",
       "      <td>0</td>\n",
       "      <td>1</td>\n",
       "      <td>0</td>\n",
       "      <td>...</td>\n",
       "      <td>-1.0</td>\n",
       "      <td>1.0</td>\n",
       "      <td>0.0</td>\n",
       "      <td>0.0</td>\n",
       "      <td>0.0</td>\n",
       "      <td>-9.0</td>\n",
       "      <td>1.0</td>\n",
       "      <td>0.0</td>\n",
       "      <td>-5.1</td>\n",
       "      <td>2019-12-14 00:00:00</td>\n",
       "    </tr>\n",
       "    <tr>\n",
       "      <th>6340</th>\n",
       "      <td>295.0</td>\n",
       "      <td>2.0</td>\n",
       "      <td>36.0</td>\n",
       "      <td>38.0</td>\n",
       "      <td>0</td>\n",
       "      <td>1</td>\n",
       "      <td>0</td>\n",
       "      <td>0</td>\n",
       "      <td>1</td>\n",
       "      <td>0</td>\n",
       "      <td>...</td>\n",
       "      <td>0.0</td>\n",
       "      <td>-12.0</td>\n",
       "      <td>-2.0</td>\n",
       "      <td>0.0</td>\n",
       "      <td>0.0</td>\n",
       "      <td>3.0</td>\n",
       "      <td>-1.0</td>\n",
       "      <td>0.0</td>\n",
       "      <td>5.1</td>\n",
       "      <td>2019-12-14 00:00:00</td>\n",
       "    </tr>\n",
       "  </tbody>\n",
       "</table>\n",
       "<p>6285 rows × 26 columns</p>\n",
       "</div>"
      ],
      "text/plain": [
       "      duration  rounds  f1_age  f2_age  f1_isHomeCity  f1_isHomeCountry  \\\n",
       "id                                                                        \n",
       "5201     104.0     1.0    27.0    34.0              0                 0   \n",
       "5202      52.0     1.0    24.0    23.0              0                 1   \n",
       "5203      59.0     1.0    23.0    34.0              0                 1   \n",
       "5204      57.0     1.0    29.0    27.0              0                 1   \n",
       "5205     138.0     1.0    27.0    30.0              0                 0   \n",
       "...        ...     ...     ...     ...            ...               ...   \n",
       "5310     260.0     1.0    25.0    25.0              0                 1   \n",
       "6338     300.0     3.0    30.0    22.0              0                 1   \n",
       "5311     300.0     5.0    31.0    35.0              0                 0   \n",
       "5312     300.0     3.0    33.0    33.0              0                 0   \n",
       "6340     295.0     2.0    36.0    38.0              0                 1   \n",
       "\n",
       "      f1_isHomeTimezone  f2_isHomeCity  f2_isHomeCountry  f2_isHomeTimezone  \\\n",
       "id                                                                            \n",
       "5201                  0              0                 0                  0   \n",
       "5202                  0              0                 1                  0   \n",
       "5203                  0              0                 0                  0   \n",
       "5204                  0              0                 0                  0   \n",
       "5205                  0              0                 1                  0   \n",
       "...                 ...            ...               ...                ...   \n",
       "5310                  0              0                 1                  1   \n",
       "6338                  0              0                 0                  0   \n",
       "5311                  0              0                 0                  0   \n",
       "5312                  0              0                 1                  0   \n",
       "6340                  0              0                 1                  0   \n",
       "\n",
       "      ...  grappling_accuracy_difference  hitsTotal_difference  \\\n",
       "id    ...                                                        \n",
       "5201  ...                            0.0                   4.0   \n",
       "5202  ...                            0.0                   2.0   \n",
       "5203  ...                            0.0                 -14.0   \n",
       "5204  ...                            0.0                 -12.0   \n",
       "5205  ...                            0.0                   7.0   \n",
       "...   ...                            ...                   ...   \n",
       "5310  ...                           -1.0                  19.0   \n",
       "6338  ...                            0.0                  71.0   \n",
       "5311  ...                            0.0                   6.0   \n",
       "5312  ...                           -1.0                   1.0   \n",
       "6340  ...                            0.0                 -12.0   \n",
       "\n",
       "      takedownTotal_difference  submissionAttempts_difference  \\\n",
       "id                                                              \n",
       "5201                       3.0                            1.0   \n",
       "5202                       2.0                            1.0   \n",
       "5203                       0.0                            0.0   \n",
       "5204                       0.0                           -1.0   \n",
       "5205                       1.0                            0.0   \n",
       "...                        ...                            ...   \n",
       "5310                       1.0                            1.0   \n",
       "6338                       1.0                            0.0   \n",
       "5311                       2.0                           -1.0   \n",
       "5312                       0.0                            0.0   \n",
       "6340                      -2.0                            0.0   \n",
       "\n",
       "      takeovers_difference  hitsBodyTotal_difference  \\\n",
       "id                                                     \n",
       "5201                   0.0                       0.0   \n",
       "5202                   0.0                       0.0   \n",
       "5203                   0.0                       0.0   \n",
       "5204                  -1.0                       0.0   \n",
       "5205                   0.0                       0.0   \n",
       "...                    ...                       ...   \n",
       "5310                   0.0                       0.0   \n",
       "6338                   0.0                       1.0   \n",
       "5311                   0.0                       2.0   \n",
       "5312                   0.0                      -9.0   \n",
       "6340                   0.0                       3.0   \n",
       "\n",
       "      hitsLegsTotal_difference  weight_difference  height_difference  \\\n",
       "id                                                                     \n",
       "5201                       1.0              -18.6              -10.2   \n",
       "5202                       0.0                2.3               -7.6   \n",
       "5203                      -2.0               26.8               -2.5   \n",
       "5204                       0.0               13.6                0.0   \n",
       "5205                       2.0               -9.5                0.0   \n",
       "...                        ...                ...                ...   \n",
       "5310                       0.0                0.0                7.6   \n",
       "6338                      -2.0                0.0               -5.1   \n",
       "5311                       1.0                0.0               -2.5   \n",
       "5312                       1.0                0.0               -5.1   \n",
       "6340                      -1.0                0.0                5.1   \n",
       "\n",
       "               eventDate  \n",
       "id                        \n",
       "5201 1993-11-12 00:00:00  \n",
       "5202 1993-11-12 00:00:00  \n",
       "5203 1993-11-12 00:00:00  \n",
       "5204 1993-11-12 00:00:00  \n",
       "5205 1993-11-12 00:00:00  \n",
       "...                  ...  \n",
       "5310 2019-12-08 05:00:00  \n",
       "6338 2019-12-08 05:00:00  \n",
       "5311 2019-12-14 00:00:00  \n",
       "5312 2019-12-14 00:00:00  \n",
       "6340 2019-12-14 00:00:00  \n",
       "\n",
       "[6285 rows x 26 columns]"
      ]
     },
     "execution_count": 7,
     "metadata": {},
     "output_type": "execute_result"
    }
   ],
   "source": [
    "model_file = open('processed_data2.pkl', 'rb')\n",
    "data = pickle.load(model_file)\n",
    "model_file.close()\n",
    "data"
   ]
  },
  {
   "cell_type": "code",
   "execution_count": 8,
   "metadata": {},
   "outputs": [
    {
     "name": "stdout",
     "output_type": "stream",
     "text": [
      "<class 'pandas.core.frame.DataFrame'>\n",
      "Int64Index: 6285 entries, 5201 to 6340\n",
      "Data columns (total 26 columns):\n",
      " #   Column                          Non-Null Count  Dtype         \n",
      "---  ------                          --------------  -----         \n",
      " 0   duration                        6285 non-null   float64       \n",
      " 1   rounds                          6285 non-null   float64       \n",
      " 2   f1_age                          6285 non-null   float64       \n",
      " 3   f2_age                          6285 non-null   float64       \n",
      " 4   f1_isHomeCity                   6285 non-null   int64         \n",
      " 5   f1_isHomeCountry                6285 non-null   int64         \n",
      " 6   f1_isHomeTimezone               6285 non-null   int64         \n",
      " 7   f2_isHomeCity                   6285 non-null   int64         \n",
      " 8   f2_isHomeCountry                6285 non-null   int64         \n",
      " 9   f2_isHomeTimezone               6285 non-null   int64         \n",
      " 10  winner                          6285 non-null   bool          \n",
      " 11  Knockdown_ratio_difference      6285 non-null   float64       \n",
      " 12  wins_by_knockout_difference     6285 non-null   float64       \n",
      " 13  count_of_fights_difference      6285 non-null   float64       \n",
      " 14  striking_accuracy_difference    6285 non-null   float64       \n",
      " 15  wins_by_submissions_difference  6285 non-null   float64       \n",
      " 16  grappling_accuracy_difference   6285 non-null   float64       \n",
      " 17  hitsTotal_difference            6285 non-null   float64       \n",
      " 18  takedownTotal_difference        6285 non-null   float64       \n",
      " 19  submissionAttempts_difference   6285 non-null   float64       \n",
      " 20  takeovers_difference            6285 non-null   float64       \n",
      " 21  hitsBodyTotal_difference        6285 non-null   float64       \n",
      " 22  hitsLegsTotal_difference        6285 non-null   float64       \n",
      " 23  weight_difference               6285 non-null   float64       \n",
      " 24  height_difference               6285 non-null   float64       \n",
      " 25  eventDate                       6285 non-null   datetime64[ns]\n",
      "dtypes: bool(1), datetime64[ns](1), float64(18), int64(6)\n",
      "memory usage: 1.3 MB\n"
     ]
    }
   ],
   "source": [
    "data.info()"
   ]
  },
  {
   "cell_type": "markdown",
   "metadata": {},
   "source": [
    "## Выбираем независимые и целевую переменные"
   ]
  },
  {
   "cell_type": "markdown",
   "metadata": {},
   "source": [
    "### Выбираем период для обучающей и тестовой выборки "
   ]
  },
  {
   "cell_type": "code",
   "execution_count": 10,
   "metadata": {},
   "outputs": [],
   "source": [
    "def X_y_split(df , feature_names, target_column, basline_column):\n",
    "    \"\"\"\n",
    "  Функция разделяет выборку на трейн , тест и выделяет бейслайн\n",
    "  На входе pandas dataframe и перечень фичей для обучения/ целевая переменная/ бейслайн фича,\n",
    "  На выходе train/test X, Y, baseline dataframes\n",
    "  \"\"\"\n",
    "    X = df[feature_names]\n",
    "    Y= df[target_column]\n",
    "    Y_baseline = df[basline_column]\n",
    "    X_train, X_test, Y_train, Y_test = X.iloc[0:-100,:], X.iloc[-100:], Y.iloc[0:-100], Y.iloc[-100:] #В качестве тестового множества берем последние 100 дней\n",
    "    Y_train_baseline , Y_test_baseline = Y_baseline[0:-100],  Y_baseline[-100:]\n",
    "    return X, Y, Y_baseline, X_train, X_test, Y_train, Y_test,  Y_train_baseline , Y_test_baseline"
   ]
  },
  {
   "cell_type": "code",
   "execution_count": 38,
   "metadata": {},
   "outputs": [],
   "source": [
    "X = data.drop(columns=['winner'])\n",
    "y = data[['winner', 'eventDate']]\n",
    "X_train = X[X['eventDate'].dt.year < 2019].drop(columns=['eventDate'])\n",
    "X_test = X[X['eventDate'].dt.year >= 2019].drop(columns=['eventDate'])\n",
    "y_with_date_to_train = y[y['eventDate'].dt.year < 2019]\n",
    "y_with_date_to_test = y[y['eventDate'].dt.year >= 2019]"
   ]
  },
  {
   "cell_type": "code",
   "execution_count": 39,
   "metadata": {},
   "outputs": [],
   "source": [
    "y_train = y_with_date_to_train['winner']\n",
    "y_test = y_with_date_to_test['winner']"
   ]
  },
  {
   "cell_type": "code",
   "execution_count": 40,
   "metadata": {},
   "outputs": [
    {
     "data": {
      "text/plain": [
       "(439,)"
      ]
     },
     "execution_count": 40,
     "metadata": {},
     "output_type": "execute_result"
    }
   ],
   "source": [
    "y_test.shape"
   ]
  },
  {
   "cell_type": "markdown",
   "metadata": {},
   "source": [
    "## Пробуем XGboost classifier"
   ]
  },
  {
   "cell_type": "code",
   "execution_count": 18,
   "metadata": {},
   "outputs": [],
   "source": [
    "import xgboost as xgb"
   ]
  },
  {
   "cell_type": "markdown",
   "metadata": {},
   "source": [
    "### Преобразовываем независимые и целевую переменные"
   ]
  },
  {
   "cell_type": "code",
   "execution_count": 41,
   "metadata": {},
   "outputs": [],
   "source": [
    "D_train = xgb.DMatrix(X_train, label=y_train)\n",
    "D_test = xgb.DMatrix(X_test, label=y_test)"
   ]
  },
  {
   "cell_type": "markdown",
   "metadata": {},
   "source": [
    "### Настраиваем дефолтные параметры"
   ]
  },
  {
   "cell_type": "code",
   "execution_count": 42,
   "metadata": {},
   "outputs": [],
   "source": [
    "param = {\n",
    "    'eta': 0.3, \n",
    "    'max_depth': 3,  \n",
    "    'objective': 'multi:softprob',  \n",
    "    'num_class': 3} \n",
    "\n",
    "steps = 20  # The number of training iterations"
   ]
  },
  {
   "cell_type": "markdown",
   "metadata": {},
   "source": [
    "### Обучаем модель XGBoost Classifier"
   ]
  },
  {
   "cell_type": "code",
   "execution_count": 43,
   "metadata": {},
   "outputs": [
    {
     "name": "stdout",
     "output_type": "stream",
     "text": [
      "[18:04:09] WARNING: /Users/runner/work/xgboost/xgboost/src/learner.cc:1115: Starting in XGBoost 1.3.0, the default evaluation metric used with the objective 'multi:softprob' was changed from 'merror' to 'mlogloss'. Explicitly set eval_metric if you'd like to restore the old behavior.\n"
     ]
    }
   ],
   "source": [
    "xgb_model = xgb.train(param, D_train, steps)"
   ]
  },
  {
   "cell_type": "markdown",
   "metadata": {},
   "source": [
    "### Предсказываем целевую переменную"
   ]
  },
  {
   "cell_type": "code",
   "execution_count": 44,
   "metadata": {},
   "outputs": [
    {
     "name": "stdout",
     "output_type": "stream",
     "text": [
      "Accuracy = 0.7129840546697038\n"
     ]
    }
   ],
   "source": [
    "preds = xgb_model.predict(D_test)\n",
    "best_preds = np.asarray([np.argmax(line) for line in preds])\n",
    "print(\"Accuracy = {}\".format(accuracy_score(y_test, best_preds)))"
   ]
  },
  {
   "cell_type": "code",
   "execution_count": 47,
   "metadata": {},
   "outputs": [],
   "source": [
    "scaler = StandardScaler()\n",
    "cover_X_train = scaler.fit_transform(X_train)\n",
    "cover_X_test = scaler.transform(X_test)"
   ]
  },
  {
   "cell_type": "code",
   "execution_count": 48,
   "metadata": {},
   "outputs": [
    {
     "data": {
      "text/plain": [
       "(5846, 24)"
      ]
     },
     "execution_count": 48,
     "metadata": {},
     "output_type": "execute_result"
    }
   ],
   "source": [
    "cover_X_train.shape"
   ]
  },
  {
   "cell_type": "code",
   "execution_count": 49,
   "metadata": {},
   "outputs": [],
   "source": [
    "from tensorflow.keras import models\n",
    "from tensorflow.keras import layers"
   ]
  },
  {
   "cell_type": "code",
   "execution_count": 284,
   "metadata": {},
   "outputs": [],
   "source": [
    "\n",
    "model= models.Sequential()\n",
    "model.add(layers.Dense(256, activation='relu', input_shape=(24,)))\n",
    "# model.add(layers.Dense(512, activation='relu'))\n",
    "model.add(layers.Dense(256, activation='relu'))\n",
    "model.add(layers.Dense(256, activation='relu'))\n",
    "# model.add(layers.Dense(256, activation='relu'))\n",
    "# model.add(layers.Dense(256, activation='relu'))\n",
    "# model.add(layers.Dense(256, activation='relu'))\n",
    "# model.add(layers.Dense(256, activation='relu'))\n",
    "# model.add(layers.Dense(256, activation='relu'))\n",
    "# model.add(layers.Dense(256, activation='relu'))\n",
    "# model.add(layers.Dense(256, activation='relu'))\n",
    "# model.add(layers.Dense(256, activation='relu'))\n",
    "# model.add(layers.Dense(128, activation='relu'))\n",
    "# model.add(layers.Dropout(0.2))\n",
    "model.add(layers.Dense(64, activation='relu'))\n",
    "# model.add(layers.Dropout(0.5))\n",
    "# model.add(layers.Dense(64, activation='relu'))\n",
    "model.add(layers.Dense(1, activation='sigmoid'))"
   ]
  },
  {
   "cell_type": "code",
   "execution_count": 285,
   "metadata": {},
   "outputs": [],
   "source": [
    "model.compile(optimizer='adam',\n",
    "    loss='binary_crossentropy',\n",
    "    metrics=['accuracy'])"
   ]
  },
  {
   "cell_type": "code",
   "execution_count": 286,
   "metadata": {},
   "outputs": [
    {
     "name": "stdout",
     "output_type": "stream",
     "text": [
      "Epoch 1/3\n",
      "183/183 [==============================] - 1s 3ms/step - loss: 0.4723 - accuracy: 0.7716\n",
      "Epoch 2/3\n",
      "183/183 [==============================] - 1s 3ms/step - loss: 0.4113 - accuracy: 0.8038\n",
      "Epoch 3/3\n",
      "183/183 [==============================] - 1s 3ms/step - loss: 0.3866 - accuracy: 0.8165\n"
     ]
    },
    {
     "data": {
      "text/plain": [
       "<keras.callbacks.History at 0x12adbcfa0>"
      ]
     },
     "execution_count": 286,
     "metadata": {},
     "output_type": "execute_result"
    }
   ],
   "source": [
    "model.fit(cover_X_train, y_train, epochs=3, batch_size=32)"
   ]
  },
  {
   "cell_type": "code",
   "execution_count": 287,
   "metadata": {},
   "outputs": [
    {
     "name": "stdout",
     "output_type": "stream",
     "text": [
      "14/14 [==============================] - 0s 2ms/step - loss: 0.5284 - accuracy: 0.7517\n"
     ]
    },
    {
     "data": {
      "text/plain": [
       "[0.5284481644630432, 0.751708447933197]"
      ]
     },
     "execution_count": 287,
     "metadata": {},
     "output_type": "execute_result"
    }
   ],
   "source": [
    "model.evaluate(cover_X_test, y_test)"
   ]
  },
  {
   "cell_type": "code",
   "execution_count": 288,
   "metadata": {},
   "outputs": [],
   "source": [
    "from sklearn.linear_model import Perceptron\n",
    "from sklearn.linear_model import SGDClassifier\n",
    "from sklearn.tree import DecisionTreeClassifier"
   ]
  },
  {
   "cell_type": "code",
   "execution_count": 302,
   "metadata": {},
   "outputs": [
    {
     "data": {
      "text/plain": [
       "Perceptron()"
      ]
     },
     "execution_count": 302,
     "metadata": {},
     "output_type": "execute_result"
    }
   ],
   "source": [
    "perceptron = Perceptron(max_iter = 1000, tol = 0.001)\n",
    "perceptron.fit(cover_X_train, y_train)"
   ]
  },
  {
   "cell_type": "code",
   "execution_count": 303,
   "metadata": {},
   "outputs": [
    {
     "data": {
      "text/plain": [
       "0.6378132118451025"
      ]
     },
     "execution_count": 303,
     "metadata": {},
     "output_type": "execute_result"
    }
   ],
   "source": [
    "perceptron.score(cover_X_test, y_test)"
   ]
  },
  {
   "cell_type": "code",
   "execution_count": 294,
   "metadata": {},
   "outputs": [],
   "source": [
    "sgd = SGDClassifier(max_iter = 1000, tol = 0.001)\n",
    "sgd.fit(cover_X_train, y_train)\n",
    "y_pred = sgd.predict(cover_X_test)"
   ]
  },
  {
   "cell_type": "code",
   "execution_count": 296,
   "metadata": {},
   "outputs": [
    {
     "data": {
      "text/plain": [
       "0.6924829157175398"
      ]
     },
     "execution_count": 296,
     "metadata": {},
     "output_type": "execute_result"
    }
   ],
   "source": [
    "accuracy_score(y_test,y_pred)"
   ]
  },
  {
   "cell_type": "code",
   "execution_count": 297,
   "metadata": {},
   "outputs": [],
   "source": [
    "decision_tree = DecisionTreeClassifier()\n",
    "decision_tree.fit(cover_X_train, y_train)\n",
    "y_pred = decision_tree.predict(cover_X_test)"
   ]
  },
  {
   "cell_type": "code",
   "execution_count": 298,
   "metadata": {},
   "outputs": [
    {
     "data": {
      "text/plain": [
       "0.7175398633257403"
      ]
     },
     "execution_count": 298,
     "metadata": {},
     "output_type": "execute_result"
    }
   ],
   "source": [
    "accuracy_score(y_test,y_pred)"
   ]
  },
  {
   "cell_type": "code",
   "execution_count": 299,
   "metadata": {},
   "outputs": [],
   "source": [
    "from sklearn.naive_bayes import GaussianNB\n",
    "gaussian = GaussianNB()\n",
    "gaussian.fit(cover_X_train, y_train)\n",
    "y_pred = gaussian.predict(cover_X_test)"
   ]
  },
  {
   "cell_type": "code",
   "execution_count": 300,
   "metadata": {},
   "outputs": [
    {
     "data": {
      "text/plain": [
       "0.6697038724373576"
      ]
     },
     "execution_count": 300,
     "metadata": {},
     "output_type": "execute_result"
    }
   ],
   "source": [
    "accuracy_score(y_test,y_pred)"
   ]
  },
  {
   "cell_type": "code",
   "execution_count": null,
   "metadata": {},
   "outputs": [],
   "source": []
  }
 ],
 "metadata": {
  "kernelspec": {
   "display_name": "Python 3 (ipykernel)",
   "language": "python",
   "name": "python3"
  },
  "language_info": {
   "codemirror_mode": {
    "name": "ipython",
    "version": 3
   },
   "file_extension": ".py",
   "mimetype": "text/x-python",
   "name": "python",
   "nbconvert_exporter": "python",
   "pygments_lexer": "ipython3",
   "version": "3.9.6"
  }
 },
 "nbformat": 4,
 "nbformat_minor": 1
}
